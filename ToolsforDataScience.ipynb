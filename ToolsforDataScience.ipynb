{
 "cells": [
  {
   "cell_type": "markdown",
   "id": "8dacfd1f-06fe-4f97-b836-f9dad01172d1",
   "metadata": {},
   "source": [
    "# My Jupyter Notebook on IBM Watson Studio"
   ]
  },
  {
   "cell_type": "markdown",
   "id": "9843904a-3698-49a1-bced-8210c3863f69",
   "metadata": {},
   "source": [
    "**Yonggu Kim**  "
   ]
  },
  {
   "cell_type": "markdown",
   "id": "80ca57a4-62e0-406a-ae06-81d2992425c0",
   "metadata": {},
   "source": [
    "_I am in charge of building IT solutions and providing technical support to customers' work environments._"
   ]
  },
  {
   "cell_type": "markdown",
   "id": "6e1be6a3-5763-4c17-abe8-b1511576447f",
   "metadata": {},
   "source": [
    "### The next cell will print \"hello, world!\" as a print statement."
   ]
  },
  {
   "cell_type": "code",
   "execution_count": 1,
   "id": "ba474cd2-d156-497f-a260-014995a40174",
   "metadata": {},
   "outputs": [
    {
     "name": "stdout",
     "output_type": "stream",
     "text": [
      "Hello, world!\n"
     ]
    }
   ],
   "source": [
    "print('Hello, world!')"
   ]
  },
  {
   "cell_type": "markdown",
   "id": "6133166b-40cf-4285-ad95-50f16e27feb0",
   "metadata": {},
   "source": [
    "***\n",
    "* Peer-graded Assignment: Create and Share Your Jupyter Notebook\n",
    "\n",
    "cell      | task\n",
    "--------- | ---------\n",
    "cell 1    | The title should be \"My Jupyter Notebook on IBM Watson Studio\", in H1 header styling.\n",
    "cell 2    | Include your name, in bold characters.\n",
    "cell 3    | In italic formatting, write one or two sentences about why you are interested in data science\n",
    "cell 4    | In H3 header styling, explain in a short sentence what your code is supposed to do in Cell 5.\n",
    "cell 5    | Your code, as described in Cell 4. It must be executed and must display an output. \n",
    "cell 6    | Using Markdown or HTML, this cell must include at least 3 of the following"
   ]
  }
 ],
 "metadata": {
  "kernelspec": {
   "display_name": "Python",
   "language": "python",
   "name": "conda-env-python-py"
  },
  "language_info": {
   "codemirror_mode": {
    "name": "ipython",
    "version": 3
   },
   "file_extension": ".py",
   "mimetype": "text/x-python",
   "name": "python",
   "nbconvert_exporter": "python",
   "pygments_lexer": "ipython3",
   "version": "3.7.12"
  }
 },
 "nbformat": 4,
 "nbformat_minor": 5
}
